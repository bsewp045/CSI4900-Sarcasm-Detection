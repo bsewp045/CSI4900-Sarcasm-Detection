{
  "nbformat": 4,
  "nbformat_minor": 0,
  "metadata": {
    "colab": {
      "provenance": []
    },
    "kernelspec": {
      "name": "python3",
      "display_name": "Python 3"
    },
    "language_info": {
      "name": "python"
    },
    "gpuClass": "standard"
  },
  "cells": [
    {
      "cell_type": "code",
      "execution_count": 93,
      "metadata": {
        "colab": {
          "base_uri": "https://localhost:8080/"
        },
        "id": "yfuY8-hpgj-4",
        "outputId": "7cabbaa9-0be8-4ee1-e218-7bca24cb2dde"
      },
      "outputs": [
        {
          "output_type": "stream",
          "name": "stdout",
          "text": [
            "Drive already mounted at /content/drive; to attempt to forcibly remount, call drive.mount(\"/content/drive\", force_remount=True).\n"
          ]
        }
      ],
      "source": [
        "from google.colab import drive\n",
        "drive.mount('/content/drive')\n",
        "     "
      ]
    },
    {
      "cell_type": "code",
      "source": [
        "import nltk\n",
        "nltk.download('punkt')\n",
        "nltk.download('wordnet')\n",
        "nltk.download('omw-1.4')\n",
        "nltk.download('averaged_perceptron_tagger')\n",
        "nltk.download('stopwords')"
      ],
      "metadata": {
        "colab": {
          "base_uri": "https://localhost:8080/"
        },
        "id": "F5l_iB2Wiawb",
        "outputId": "882bf454-a479-41c5-9be5-105978ba1f9b"
      },
      "execution_count": 94,
      "outputs": [
        {
          "output_type": "stream",
          "name": "stderr",
          "text": [
            "[nltk_data] Downloading package punkt to /root/nltk_data...\n",
            "[nltk_data]   Package punkt is already up-to-date!\n",
            "[nltk_data] Downloading package wordnet to /root/nltk_data...\n",
            "[nltk_data]   Package wordnet is already up-to-date!\n",
            "[nltk_data] Downloading package omw-1.4 to /root/nltk_data...\n",
            "[nltk_data]   Package omw-1.4 is already up-to-date!\n",
            "[nltk_data] Downloading package averaged_perceptron_tagger to\n",
            "[nltk_data]     /root/nltk_data...\n",
            "[nltk_data]   Package averaged_perceptron_tagger is already up-to-\n",
            "[nltk_data]       date!\n",
            "[nltk_data] Downloading package stopwords to /root/nltk_data...\n",
            "[nltk_data]   Package stopwords is already up-to-date!\n"
          ]
        },
        {
          "output_type": "execute_result",
          "data": {
            "text/plain": [
              "True"
            ]
          },
          "metadata": {},
          "execution_count": 94
        }
      ]
    },
    {
      "cell_type": "code",
      "source": [
        "import pandas as pd\n",
        "import numpy as np\n",
        "from nltk.tokenize import word_tokenize\n",
        "from nltk import pos_tag\n",
        "from nltk.corpus import stopwords\n",
        "from nltk.stem import WordNetLemmatizer\n",
        "from sklearn.preprocessing import LabelEncoder\n",
        "from collections import defaultdict\n",
        "from nltk.corpus import wordnet as wn\n",
        "from sklearn.feature_extraction.text import TfidfVectorizer\n",
        "from sklearn import model_selection, naive_bayes, svm\n",
        "from sklearn.metrics import accuracy_score\n",
        "from sklearn.metrics import classification_report\n",
        "from sklearn.metrics import confusion_matrix\n",
        "import re"
      ],
      "metadata": {
        "id": "ETvrVF9zit-g"
      },
      "execution_count": 95,
      "outputs": []
    },
    {
      "cell_type": "code",
      "source": [
        "np.random.seed(500)"
      ],
      "metadata": {
        "id": "v3yVjBUPiwVk"
      },
      "execution_count": 96,
      "outputs": []
    },
    {
      "cell_type": "code",
      "source": [
        "def clean_text(input):\n",
        "  remove_symbols = re.compile('[^0-9A-Za-z ]') \n",
        "  input = remove_symbols.sub(' ', str(input)) \n",
        "  # remove  empty spaces\n",
        "  re.sub('\\s+', '' ,input)\n",
        "  return input\n",
        "     "
      ],
      "metadata": {
        "id": "7kblsnL4iz5o"
      },
      "execution_count": 97,
      "outputs": []
    },
    {
      "cell_type": "code",
      "source": [
        "df_extracted = pd.read_csv('/content/drive/MyDrive/Dataset/train/sarcastic_tweets.csv')\n",
        "df_extracted.drop(columns=df_extracted.columns[0], axis=1, inplace=True)\n",
        "# Extract the sarcastic tweets only\n",
        "df_sarcastic = df_extracted[df_extracted['sarcastic']==1]\n",
        "\n",
        "# Extract the non sarcastic rephrase of the sarcastic tweets\n",
        "df_rephrase = df_extracted[df_extracted['sarcastic'] == 0]\n",
        "# Concatenate all non sarcastic tweets in a single dataframe\n",
        "# df_not_sarcastic = pd.concat([df_not_sarcastic,rephrase],axis=0, ignore_index=True )"
      ],
      "metadata": {
        "id": "COo2kFC-jgPf"
      },
      "execution_count": 98,
      "outputs": []
    },
    {
      "cell_type": "code",
      "source": [
        "\n",
        "# Remove any non alphanumeric characters and any trailing white spaces\n",
        "df_sarcastic['tweet'] = df_sarcastic['tweet'].apply(clean_text)\n",
        "df_rephrase['tweet'] = df_rephrase['tweet'].apply(clean_text)\n",
        "\n",
        "df_sarcastic['tweet'] = df_sarcastic['tweet'].astype(str)\n",
        "df_sarcastic['tweet'] = df_sarcastic['tweet'].astype(str)\n",
        "\n",
        "# lower case all letters\n",
        "df_sarcastic['tweet'] = [entry.lower() for entry in df_sarcastic['tweet']]\n",
        "df_rephrase['tweet'] = [entry.lower() for entry in df_rephrase['tweet']]\n",
        "\n",
        "# break tweets into a set of words\n",
        "df_sarcastic['tweet']= [word_tokenize(entry) for entry in df_sarcastic['tweet']]\n",
        "df_rephrase['tweet']= [word_tokenize(entry) for entry in df_rephrase['tweet']]"
      ],
      "metadata": {
        "id": "viaKmgpmkffU"
      },
      "execution_count": null,
      "outputs": []
    },
    {
      "cell_type": "code",
      "source": [
        "df_rephrase.head(2)"
      ],
      "metadata": {
        "colab": {
          "base_uri": "https://localhost:8080/",
          "height": 111
        },
        "id": "_lO5pWbAlOgs",
        "outputId": "039d6d35-50fa-4e9e-cb81-a2a246ae8661"
      },
      "execution_count": 100,
      "outputs": [
        {
          "output_type": "execute_result",
          "data": {
            "text/plain": [
              "                                                 tweet  sarcastic\n",
              "867  [college, is, really, difficult, expensive, ti...          0\n",
              "868  [i, do, not, like, when, professors, don, t, w...          0"
            ],
            "text/html": [
              "\n",
              "  <div id=\"df-83ecc2cc-46a9-4dac-8c65-7b2199045180\">\n",
              "    <div class=\"colab-df-container\">\n",
              "      <div>\n",
              "<style scoped>\n",
              "    .dataframe tbody tr th:only-of-type {\n",
              "        vertical-align: middle;\n",
              "    }\n",
              "\n",
              "    .dataframe tbody tr th {\n",
              "        vertical-align: top;\n",
              "    }\n",
              "\n",
              "    .dataframe thead th {\n",
              "        text-align: right;\n",
              "    }\n",
              "</style>\n",
              "<table border=\"1\" class=\"dataframe\">\n",
              "  <thead>\n",
              "    <tr style=\"text-align: right;\">\n",
              "      <th></th>\n",
              "      <th>tweet</th>\n",
              "      <th>sarcastic</th>\n",
              "    </tr>\n",
              "  </thead>\n",
              "  <tbody>\n",
              "    <tr>\n",
              "      <th>867</th>\n",
              "      <td>[college, is, really, difficult, expensive, ti...</td>\n",
              "      <td>0</td>\n",
              "    </tr>\n",
              "    <tr>\n",
              "      <th>868</th>\n",
              "      <td>[i, do, not, like, when, professors, don, t, w...</td>\n",
              "      <td>0</td>\n",
              "    </tr>\n",
              "  </tbody>\n",
              "</table>\n",
              "</div>\n",
              "      <button class=\"colab-df-convert\" onclick=\"convertToInteractive('df-83ecc2cc-46a9-4dac-8c65-7b2199045180')\"\n",
              "              title=\"Convert this dataframe to an interactive table.\"\n",
              "              style=\"display:none;\">\n",
              "        \n",
              "  <svg xmlns=\"http://www.w3.org/2000/svg\" height=\"24px\"viewBox=\"0 0 24 24\"\n",
              "       width=\"24px\">\n",
              "    <path d=\"M0 0h24v24H0V0z\" fill=\"none\"/>\n",
              "    <path d=\"M18.56 5.44l.94 2.06.94-2.06 2.06-.94-2.06-.94-.94-2.06-.94 2.06-2.06.94zm-11 1L8.5 8.5l.94-2.06 2.06-.94-2.06-.94L8.5 2.5l-.94 2.06-2.06.94zm10 10l.94 2.06.94-2.06 2.06-.94-2.06-.94-.94-2.06-.94 2.06-2.06.94z\"/><path d=\"M17.41 7.96l-1.37-1.37c-.4-.4-.92-.59-1.43-.59-.52 0-1.04.2-1.43.59L10.3 9.45l-7.72 7.72c-.78.78-.78 2.05 0 2.83L4 21.41c.39.39.9.59 1.41.59.51 0 1.02-.2 1.41-.59l7.78-7.78 2.81-2.81c.8-.78.8-2.07 0-2.86zM5.41 20L4 18.59l7.72-7.72 1.47 1.35L5.41 20z\"/>\n",
              "  </svg>\n",
              "      </button>\n",
              "      \n",
              "  <style>\n",
              "    .colab-df-container {\n",
              "      display:flex;\n",
              "      flex-wrap:wrap;\n",
              "      gap: 12px;\n",
              "    }\n",
              "\n",
              "    .colab-df-convert {\n",
              "      background-color: #E8F0FE;\n",
              "      border: none;\n",
              "      border-radius: 50%;\n",
              "      cursor: pointer;\n",
              "      display: none;\n",
              "      fill: #1967D2;\n",
              "      height: 32px;\n",
              "      padding: 0 0 0 0;\n",
              "      width: 32px;\n",
              "    }\n",
              "\n",
              "    .colab-df-convert:hover {\n",
              "      background-color: #E2EBFA;\n",
              "      box-shadow: 0px 1px 2px rgba(60, 64, 67, 0.3), 0px 1px 3px 1px rgba(60, 64, 67, 0.15);\n",
              "      fill: #174EA6;\n",
              "    }\n",
              "\n",
              "    [theme=dark] .colab-df-convert {\n",
              "      background-color: #3B4455;\n",
              "      fill: #D2E3FC;\n",
              "    }\n",
              "\n",
              "    [theme=dark] .colab-df-convert:hover {\n",
              "      background-color: #434B5C;\n",
              "      box-shadow: 0px 1px 3px 1px rgba(0, 0, 0, 0.15);\n",
              "      filter: drop-shadow(0px 1px 2px rgba(0, 0, 0, 0.3));\n",
              "      fill: #FFFFFF;\n",
              "    }\n",
              "  </style>\n",
              "\n",
              "      <script>\n",
              "        const buttonEl =\n",
              "          document.querySelector('#df-83ecc2cc-46a9-4dac-8c65-7b2199045180 button.colab-df-convert');\n",
              "        buttonEl.style.display =\n",
              "          google.colab.kernel.accessAllowed ? 'block' : 'none';\n",
              "\n",
              "        async function convertToInteractive(key) {\n",
              "          const element = document.querySelector('#df-83ecc2cc-46a9-4dac-8c65-7b2199045180');\n",
              "          const dataTable =\n",
              "            await google.colab.kernel.invokeFunction('convertToInteractive',\n",
              "                                                     [key], {});\n",
              "          if (!dataTable) return;\n",
              "\n",
              "          const docLinkHtml = 'Like what you see? Visit the ' +\n",
              "            '<a target=\"_blank\" href=https://colab.research.google.com/notebooks/data_table.ipynb>data table notebook</a>'\n",
              "            + ' to learn more about interactive tables.';\n",
              "          element.innerHTML = '';\n",
              "          dataTable['output_type'] = 'display_data';\n",
              "          await google.colab.output.renderOutput(dataTable, element);\n",
              "          const docLink = document.createElement('div');\n",
              "          docLink.innerHTML = docLinkHtml;\n",
              "          element.appendChild(docLink);\n",
              "        }\n",
              "      </script>\n",
              "    </div>\n",
              "  </div>\n",
              "  "
            ]
          },
          "metadata": {},
          "execution_count": 100
        }
      ]
    },
    {
      "cell_type": "code",
      "source": [
        "df_test = pd.read_csv('/content/drive/MyDrive/Dataset/test/Task-C/task_C_En_test.csv') \n",
        "\n",
        " # Remove any non alphanumeric characters and any trailing white spaces\n",
        "df_test['text_0'] = df_test['text_0'].apply(clean_text)\n",
        "df_test['text_1'] = df_test['text_1'].apply(clean_text)\n",
        "\n",
        "df_test['text_0'] = df_test['text_0'].astype(str)\n",
        "df_test['text_1'] = df_test['text_1'].astype(str)\n",
        "\n",
        "# lower case all letters\n",
        "df_test['text_0'] = [entry.lower() for entry in df_test['text_0']]\n",
        "df_test['text_1'] = [entry.lower() for entry in df_test['text_1']]\n",
        "\n",
        "# break tweets into a set of words\n",
        "df_test['text_0']= [word_tokenize(entry) for entry in df_test['text_0']]\n",
        "df_test['text_1']= [word_tokenize(entry) for entry in df_test['text_1']]\n",
        "     "
      ],
      "metadata": {
        "id": "wpiG6qGVlXMh"
      },
      "execution_count": 101,
      "outputs": []
    },
    {
      "cell_type": "code",
      "source": [
        "df_test.head(2)"
      ],
      "metadata": {
        "colab": {
          "base_uri": "https://localhost:8080/",
          "height": 111
        },
        "id": "TIyKeDwmlyxb",
        "outputId": "90d78c2a-dff6-494a-a694-6b6db41b8019"
      },
      "execution_count": 102,
      "outputs": [
        {
          "output_type": "execute_result",
          "data": {
            "text/plain": [
              "                                              text_0  \\\n",
              "0    [i, see, that, your, team, played, well, today]   \n",
              "1  [anthony, taylor, is, such, a, fair, referee, ...   \n",
              "\n",
              "                                              text_1  sarcastic_id  \n",
              "0  [i, m, sorry, that, your, team, didn, t, win, ...             0  \n",
              "1  [i, hope, anthony, taylor, is, never, put, in,...             0  "
            ],
            "text/html": [
              "\n",
              "  <div id=\"df-de3411b0-810d-45d1-b85c-9b938e7a3894\">\n",
              "    <div class=\"colab-df-container\">\n",
              "      <div>\n",
              "<style scoped>\n",
              "    .dataframe tbody tr th:only-of-type {\n",
              "        vertical-align: middle;\n",
              "    }\n",
              "\n",
              "    .dataframe tbody tr th {\n",
              "        vertical-align: top;\n",
              "    }\n",
              "\n",
              "    .dataframe thead th {\n",
              "        text-align: right;\n",
              "    }\n",
              "</style>\n",
              "<table border=\"1\" class=\"dataframe\">\n",
              "  <thead>\n",
              "    <tr style=\"text-align: right;\">\n",
              "      <th></th>\n",
              "      <th>text_0</th>\n",
              "      <th>text_1</th>\n",
              "      <th>sarcastic_id</th>\n",
              "    </tr>\n",
              "  </thead>\n",
              "  <tbody>\n",
              "    <tr>\n",
              "      <th>0</th>\n",
              "      <td>[i, see, that, your, team, played, well, today]</td>\n",
              "      <td>[i, m, sorry, that, your, team, didn, t, win, ...</td>\n",
              "      <td>0</td>\n",
              "    </tr>\n",
              "    <tr>\n",
              "      <th>1</th>\n",
              "      <td>[anthony, taylor, is, such, a, fair, referee, ...</td>\n",
              "      <td>[i, hope, anthony, taylor, is, never, put, in,...</td>\n",
              "      <td>0</td>\n",
              "    </tr>\n",
              "  </tbody>\n",
              "</table>\n",
              "</div>\n",
              "      <button class=\"colab-df-convert\" onclick=\"convertToInteractive('df-de3411b0-810d-45d1-b85c-9b938e7a3894')\"\n",
              "              title=\"Convert this dataframe to an interactive table.\"\n",
              "              style=\"display:none;\">\n",
              "        \n",
              "  <svg xmlns=\"http://www.w3.org/2000/svg\" height=\"24px\"viewBox=\"0 0 24 24\"\n",
              "       width=\"24px\">\n",
              "    <path d=\"M0 0h24v24H0V0z\" fill=\"none\"/>\n",
              "    <path d=\"M18.56 5.44l.94 2.06.94-2.06 2.06-.94-2.06-.94-.94-2.06-.94 2.06-2.06.94zm-11 1L8.5 8.5l.94-2.06 2.06-.94-2.06-.94L8.5 2.5l-.94 2.06-2.06.94zm10 10l.94 2.06.94-2.06 2.06-.94-2.06-.94-.94-2.06-.94 2.06-2.06.94z\"/><path d=\"M17.41 7.96l-1.37-1.37c-.4-.4-.92-.59-1.43-.59-.52 0-1.04.2-1.43.59L10.3 9.45l-7.72 7.72c-.78.78-.78 2.05 0 2.83L4 21.41c.39.39.9.59 1.41.59.51 0 1.02-.2 1.41-.59l7.78-7.78 2.81-2.81c.8-.78.8-2.07 0-2.86zM5.41 20L4 18.59l7.72-7.72 1.47 1.35L5.41 20z\"/>\n",
              "  </svg>\n",
              "      </button>\n",
              "      \n",
              "  <style>\n",
              "    .colab-df-container {\n",
              "      display:flex;\n",
              "      flex-wrap:wrap;\n",
              "      gap: 12px;\n",
              "    }\n",
              "\n",
              "    .colab-df-convert {\n",
              "      background-color: #E8F0FE;\n",
              "      border: none;\n",
              "      border-radius: 50%;\n",
              "      cursor: pointer;\n",
              "      display: none;\n",
              "      fill: #1967D2;\n",
              "      height: 32px;\n",
              "      padding: 0 0 0 0;\n",
              "      width: 32px;\n",
              "    }\n",
              "\n",
              "    .colab-df-convert:hover {\n",
              "      background-color: #E2EBFA;\n",
              "      box-shadow: 0px 1px 2px rgba(60, 64, 67, 0.3), 0px 1px 3px 1px rgba(60, 64, 67, 0.15);\n",
              "      fill: #174EA6;\n",
              "    }\n",
              "\n",
              "    [theme=dark] .colab-df-convert {\n",
              "      background-color: #3B4455;\n",
              "      fill: #D2E3FC;\n",
              "    }\n",
              "\n",
              "    [theme=dark] .colab-df-convert:hover {\n",
              "      background-color: #434B5C;\n",
              "      box-shadow: 0px 1px 3px 1px rgba(0, 0, 0, 0.15);\n",
              "      filter: drop-shadow(0px 1px 2px rgba(0, 0, 0, 0.3));\n",
              "      fill: #FFFFFF;\n",
              "    }\n",
              "  </style>\n",
              "\n",
              "      <script>\n",
              "        const buttonEl =\n",
              "          document.querySelector('#df-de3411b0-810d-45d1-b85c-9b938e7a3894 button.colab-df-convert');\n",
              "        buttonEl.style.display =\n",
              "          google.colab.kernel.accessAllowed ? 'block' : 'none';\n",
              "\n",
              "        async function convertToInteractive(key) {\n",
              "          const element = document.querySelector('#df-de3411b0-810d-45d1-b85c-9b938e7a3894');\n",
              "          const dataTable =\n",
              "            await google.colab.kernel.invokeFunction('convertToInteractive',\n",
              "                                                     [key], {});\n",
              "          if (!dataTable) return;\n",
              "\n",
              "          const docLinkHtml = 'Like what you see? Visit the ' +\n",
              "            '<a target=\"_blank\" href=https://colab.research.google.com/notebooks/data_table.ipynb>data table notebook</a>'\n",
              "            + ' to learn more about interactive tables.';\n",
              "          element.innerHTML = '';\n",
              "          dataTable['output_type'] = 'display_data';\n",
              "          await google.colab.output.renderOutput(dataTable, element);\n",
              "          const docLink = document.createElement('div');\n",
              "          docLink.innerHTML = docLinkHtml;\n",
              "          element.appendChild(docLink);\n",
              "        }\n",
              "      </script>\n",
              "    </div>\n",
              "  </div>\n",
              "  "
            ]
          },
          "metadata": {},
          "execution_count": 102
        }
      ]
    },
    {
      "cell_type": "code",
      "source": [
        "tag_map = defaultdict(lambda : wn.NOUN)\n",
        "tag_map['J'] = wn.ADJ\n",
        "tag_map['V'] = wn.VERB\n",
        "tag_map['R'] = wn.ADV"
      ],
      "metadata": {
        "id": "vvD_3jbvmMuV"
      },
      "execution_count": 103,
      "outputs": []
    },
    {
      "cell_type": "code",
      "source": [
        "df_final = pd.DataFrame(columns = ['tweet_final', 'sarcastic'])\n",
        "separator = \"SEP\""
      ],
      "metadata": {
        "id": "arjAx6eOp8Ny"
      },
      "execution_count": 104,
      "outputs": []
    },
    {
      "cell_type": "code",
      "source": [
        "count = 0\n",
        "for element_1, element_2 in zip(df_sarcastic['tweet'], df_rephrase['tweet']):\n",
        "  final_words = []\n",
        "  word_lemmatized = WordNetLemmatizer()\n",
        "  for word, tag in pos_tag(element_1):\n",
        "    if word not in stopwords.words('english') and word.isalpha():\n",
        "      word_final = word_lemmatized.lemmatize(word, tag_map[tag[0]])\n",
        "      final_words.append(word_final)\n",
        "  final_words.append(separator)\n",
        "  for word, tag in pos_tag(element_2):\n",
        "    if word not in stopwords.words('english') and word.isalpha():\n",
        "      word_final = word_lemmatized.lemmatize(word, tag_map[tag[0]])\n",
        "      final_words.append(word_final)\n",
        "  df_final.loc[count,'tweet_final'] = str(final_words)\n",
        "  df_final.loc[count,'sarcastic'] = 0\n",
        "  count = count + 1"
      ],
      "metadata": {
        "id": "MaPlfqMrmTnf"
      },
      "execution_count": 105,
      "outputs": []
    },
    {
      "cell_type": "code",
      "source": [
        "for element_1, element_2 in zip(df_sarcastic['tweet'], df_rephrase['tweet']):\n",
        "  final_words = []\n",
        "  word_lemmatized = WordNetLemmatizer()\n",
        "  for word, tag in pos_tag(element_2):\n",
        "    if word not in stopwords.words('english') and word.isalpha():\n",
        "      word_final = word_lemmatized.lemmatize(word, tag_map[tag[0]])\n",
        "      final_words.append(word_final)\n",
        "  final_words.append(separator)\n",
        "  for word, tag in pos_tag(element_1):\n",
        "    if word not in stopwords.words('english') and word.isalpha():\n",
        "      word_final = word_lemmatized.lemmatize(word, tag_map[tag[0]])\n",
        "      final_words.append(word_final)\n",
        "  df_final.loc[count,'tweet_final'] = str(final_words)\n",
        "  df_final.loc[count,'sarcastic'] = 1\n",
        "  count = count + 1"
      ],
      "metadata": {
        "id": "0Lce6Sd_rjZp"
      },
      "execution_count": 106,
      "outputs": []
    },
    {
      "cell_type": "code",
      "source": [
        "count = 0\n",
        "for element_1, element_2 in zip(df_test['text_0'], df_test['text_1']):\n",
        "  final_words = []\n",
        "  word_lemmatized = WordNetLemmatizer()\n",
        "  for word, tag in pos_tag(element_1):\n",
        "    if word not in stopwords.words('english') and word.isalpha():\n",
        "      word_final = word_lemmatized.lemmatize(word, tag_map[tag[0]])\n",
        "      final_words.append(word_final)\n",
        "  final_words.append(separator)\n",
        "  for word, tag in pos_tag(element_2):\n",
        "    if word not in stopwords.words('english') and word.isalpha():\n",
        "      word_final = word_lemmatized.lemmatize(word, tag_map[tag[0]])\n",
        "      final_words.append(word_final)\n",
        "  df_test.loc[count,'tweet_final'] = str(final_words)\n",
        "  count = count + 1"
      ],
      "metadata": {
        "id": "Bz7gVt7ns4LX"
      },
      "execution_count": 107,
      "outputs": []
    },
    {
      "cell_type": "code",
      "source": [
        "Encoder = LabelEncoder()\n",
        "train_y = Encoder.fit_transform(df_final['sarcastic'])\n",
        "test_y = Encoder.fit_transform(df_test['sarcastic_id'])\n",
        "train_y"
      ],
      "metadata": {
        "colab": {
          "base_uri": "https://localhost:8080/"
        },
        "id": "o95VuyGSv6HM",
        "outputId": "29d92ff4-296e-47a3-97af-cc0c03e638d7"
      },
      "execution_count": 108,
      "outputs": [
        {
          "output_type": "execute_result",
          "data": {
            "text/plain": [
              "array([0, 0, 0, ..., 1, 1, 1])"
            ]
          },
          "metadata": {},
          "execution_count": 108
        }
      ]
    },
    {
      "cell_type": "code",
      "source": [
        "df_final.loc[1733,'tweet_final']"
      ],
      "metadata": {
        "colab": {
          "base_uri": "https://localhost:8080/",
          "height": 54
        },
        "id": "J8LZmKUarX_m",
        "outputId": "de5b0e15-3d56-4a30-d4d3-76fd5a27a306"
      },
      "execution_count": 109,
      "outputs": [
        {
          "output_type": "execute_result",
          "data": {
            "text/plain": [
              "\"['unfortunately', 'one', 'cookery', 'skill', 'make', 'able', 'adult', 'properly', 'SEP', 'might', 'rubbish', 'drive', 'less', 'stellar', 'career', 'really', 'good', 'make', 'spanish', 'omelette', 'know']\""
            ],
            "application/vnd.google.colaboratory.intrinsic+json": {
              "type": "string"
            }
          },
          "metadata": {},
          "execution_count": 109
        }
      ]
    },
    {
      "cell_type": "code",
      "source": [
        "tfidf_vect = TfidfVectorizer()\n",
        "tfidf_vect.fit(df_final['tweet_final'])\n",
        "\n",
        "train_x = tfidf_vect.transform(df_final['tweet_final'])\n",
        "test_x = tfidf_vect.transform(df_test['tweet_final'])"
      ],
      "metadata": {
        "id": "IVrPHdkwr-9I"
      },
      "execution_count": 110,
      "outputs": []
    },
    {
      "cell_type": "code",
      "source": [
        "print(len(tfidf_vect.vocabulary_))"
      ],
      "metadata": {
        "colab": {
          "base_uri": "https://localhost:8080/"
        },
        "id": "7fpT6MnnttLt",
        "outputId": "be1179a1-3f70-4048-9293-3a3dd97f0f36"
      },
      "execution_count": 111,
      "outputs": [
        {
          "output_type": "stream",
          "name": "stdout",
          "text": [
            "3910\n"
          ]
        }
      ]
    },
    {
      "cell_type": "code",
      "source": [
        "tfidf_vect_test = TfidfVectorizer()\n",
        "tfidf_vect_test.fit(df_test['tweet_final'])\n",
        "print(len(tfidf_vect_test.vocabulary_))"
      ],
      "metadata": {
        "colab": {
          "base_uri": "https://localhost:8080/"
        },
        "id": "vX9DYE1Mt0Tf",
        "outputId": "862b6313-8cd4-4919-d781-04d2ef1a70a2"
      },
      "execution_count": 112,
      "outputs": [
        {
          "output_type": "stream",
          "name": "stdout",
          "text": [
            "1288\n"
          ]
        }
      ]
    },
    {
      "cell_type": "code",
      "source": [
        "count = 0\n",
        "present = []\n",
        "absent = []\n",
        "for key in tfidf_vect_test.vocabulary_:\n",
        "  if key in tfidf_vect.vocabulary_:\n",
        "    count = count + 1\n",
        "    present.append(key)\n",
        "  else:\n",
        "    absent.append(key)\n",
        "\n",
        "count"
      ],
      "metadata": {
        "colab": {
          "base_uri": "https://localhost:8080/"
        },
        "id": "WB0aC9YQt35c",
        "outputId": "f993ea60-81fe-46de-a1c8-fa2bff935c4b"
      },
      "execution_count": 113,
      "outputs": [
        {
          "output_type": "execute_result",
          "data": {
            "text/plain": [
              "879"
            ]
          },
          "metadata": {},
          "execution_count": 113
        }
      ]
    },
    {
      "cell_type": "code",
      "source": [
        "SVM = svm.SVC(C=5.0, kernel='linear')\n",
        "SVM.fit(train_x, train_y)\n",
        "\n",
        "# predict the labels on validation dataset\n",
        "predictions_SVM = SVM.predict(test_x)\n",
        "print(classification_report(df_test['sarcastic_id'],predictions_SVM))"
      ],
      "metadata": {
        "colab": {
          "base_uri": "https://localhost:8080/"
        },
        "id": "feK1HYOkuCHO",
        "outputId": "d9b32b29-1a0e-488b-9ae5-724c758c6312"
      },
      "execution_count": 123,
      "outputs": [
        {
          "output_type": "stream",
          "name": "stdout",
          "text": [
            "              precision    recall  f1-score   support\n",
            "\n",
            "           0       0.58      0.53      0.55       107\n",
            "           1       0.50      0.55      0.53        93\n",
            "\n",
            "    accuracy                           0.54       200\n",
            "   macro avg       0.54      0.54      0.54       200\n",
            "weighted avg       0.54      0.54      0.54       200\n",
            "\n"
          ]
        }
      ]
    },
    {
      "cell_type": "code",
      "source": [
        "print(confusion_matrix(df_test['sarcastic_id'],predictions_SVM))"
      ],
      "metadata": {
        "colab": {
          "base_uri": "https://localhost:8080/"
        },
        "id": "1ORfj7dEuLVs",
        "outputId": "8202f960-44f7-4505-d761-4c315b5ce09e"
      },
      "execution_count": 124,
      "outputs": [
        {
          "output_type": "stream",
          "name": "stdout",
          "text": [
            "[[57 50]\n",
            " [42 51]]\n"
          ]
        }
      ]
    },
    {
      "cell_type": "code",
      "source": [
        "df_results = pd.DataFrame()\n",
        "df_results['True-value'] = df_test['sarcastic_id']\n",
        "df_results['Prediction'] = predictions_SVM\n",
        "df_results.to_csv(\"/content/drive/MyDrive/Dataset/test/Task-C/svm-results.csv\")"
      ],
      "metadata": {
        "id": "qnq-ErhnyiJg"
      },
      "execution_count": 125,
      "outputs": []
    }
  ]
}