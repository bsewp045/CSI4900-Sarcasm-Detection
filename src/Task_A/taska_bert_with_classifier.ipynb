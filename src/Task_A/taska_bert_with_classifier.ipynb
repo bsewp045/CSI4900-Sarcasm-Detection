{
  "nbformat": 4,
  "nbformat_minor": 0,
  "metadata": {
    "colab": {
      "provenance": []
    },
    "kernelspec": {
      "name": "python3",
      "display_name": "Python 3"
    },
    "language_info": {
      "name": "python"
    },
    "gpuClass": "premium"
  },
  "cells": [
    {
      "cell_type": "code",
      "execution_count": 65,
      "metadata": {
        "colab": {
          "base_uri": "https://localhost:8080/"
        },
        "id": "a0VM4UtmL3_i",
        "outputId": "1af16f19-e587-4714-eda3-180f7b5802e3"
      },
      "outputs": [
        {
          "output_type": "stream",
          "name": "stdout",
          "text": [
            "Drive already mounted at /content/drive; to attempt to forcibly remount, call drive.mount(\"/content/drive\", force_remount=True).\n"
          ]
        }
      ],
      "source": [
        "from google.colab import drive\n",
        "drive.mount('/content/drive')"
      ]
    },
    {
      "cell_type": "code",
      "source": [
        "!pip install sentence_transformers"
      ],
      "metadata": {
        "id": "2DvZBHSNMGwJ",
        "colab": {
          "base_uri": "https://localhost:8080/"
        },
        "outputId": "786c70dd-7095-42a3-9d8b-34b42bbb27a1"
      },
      "execution_count": 66,
      "outputs": [
        {
          "output_type": "stream",
          "name": "stdout",
          "text": [
            "Looking in indexes: https://pypi.org/simple, https://us-python.pkg.dev/colab-wheels/public/simple/\n",
            "Requirement already satisfied: sentence_transformers in /usr/local/lib/python3.9/dist-packages (2.2.2)\n",
            "Requirement already satisfied: scikit-learn in /usr/local/lib/python3.9/dist-packages (from sentence_transformers) (1.2.2)\n",
            "Requirement already satisfied: sentencepiece in /usr/local/lib/python3.9/dist-packages (from sentence_transformers) (0.1.97)\n",
            "Requirement already satisfied: tqdm in /usr/local/lib/python3.9/dist-packages (from sentence_transformers) (4.65.0)\n",
            "Requirement already satisfied: scipy in /usr/local/lib/python3.9/dist-packages (from sentence_transformers) (1.10.1)\n",
            "Requirement already satisfied: torch>=1.6.0 in /usr/local/lib/python3.9/dist-packages (from sentence_transformers) (1.13.1+cu116)\n",
            "Requirement already satisfied: torchvision in /usr/local/lib/python3.9/dist-packages (from sentence_transformers) (0.14.1+cu116)\n",
            "Requirement already satisfied: nltk in /usr/local/lib/python3.9/dist-packages (from sentence_transformers) (3.8.1)\n",
            "Requirement already satisfied: transformers<5.0.0,>=4.6.0 in /usr/local/lib/python3.9/dist-packages (from sentence_transformers) (4.27.3)\n",
            "Requirement already satisfied: huggingface-hub>=0.4.0 in /usr/local/lib/python3.9/dist-packages (from sentence_transformers) (0.13.3)\n",
            "Requirement already satisfied: numpy in /usr/local/lib/python3.9/dist-packages (from sentence_transformers) (1.22.4)\n",
            "Requirement already satisfied: filelock in /usr/local/lib/python3.9/dist-packages (from huggingface-hub>=0.4.0->sentence_transformers) (3.10.1)\n",
            "Requirement already satisfied: requests in /usr/local/lib/python3.9/dist-packages (from huggingface-hub>=0.4.0->sentence_transformers) (2.27.1)\n",
            "Requirement already satisfied: typing-extensions>=3.7.4.3 in /usr/local/lib/python3.9/dist-packages (from huggingface-hub>=0.4.0->sentence_transformers) (4.5.0)\n",
            "Requirement already satisfied: pyyaml>=5.1 in /usr/local/lib/python3.9/dist-packages (from huggingface-hub>=0.4.0->sentence_transformers) (6.0)\n",
            "Requirement already satisfied: packaging>=20.9 in /usr/local/lib/python3.9/dist-packages (from huggingface-hub>=0.4.0->sentence_transformers) (23.0)\n",
            "Requirement already satisfied: regex!=2019.12.17 in /usr/local/lib/python3.9/dist-packages (from transformers<5.0.0,>=4.6.0->sentence_transformers) (2022.10.31)\n",
            "Requirement already satisfied: tokenizers!=0.11.3,<0.14,>=0.11.1 in /usr/local/lib/python3.9/dist-packages (from transformers<5.0.0,>=4.6.0->sentence_transformers) (0.13.2)\n",
            "Requirement already satisfied: joblib in /usr/local/lib/python3.9/dist-packages (from nltk->sentence_transformers) (1.1.1)\n",
            "Requirement already satisfied: click in /usr/local/lib/python3.9/dist-packages (from nltk->sentence_transformers) (8.1.3)\n",
            "Requirement already satisfied: threadpoolctl>=2.0.0 in /usr/local/lib/python3.9/dist-packages (from scikit-learn->sentence_transformers) (3.1.0)\n",
            "Requirement already satisfied: pillow!=8.3.*,>=5.3.0 in /usr/local/lib/python3.9/dist-packages (from torchvision->sentence_transformers) (8.4.0)\n",
            "Requirement already satisfied: urllib3<1.27,>=1.21.1 in /usr/local/lib/python3.9/dist-packages (from requests->huggingface-hub>=0.4.0->sentence_transformers) (1.26.15)\n",
            "Requirement already satisfied: idna<4,>=2.5 in /usr/local/lib/python3.9/dist-packages (from requests->huggingface-hub>=0.4.0->sentence_transformers) (3.4)\n",
            "Requirement already satisfied: charset-normalizer~=2.0.0 in /usr/local/lib/python3.9/dist-packages (from requests->huggingface-hub>=0.4.0->sentence_transformers) (2.0.12)\n",
            "Requirement already satisfied: certifi>=2017.4.17 in /usr/local/lib/python3.9/dist-packages (from requests->huggingface-hub>=0.4.0->sentence_transformers) (2022.12.7)\n"
          ]
        }
      ]
    },
    {
      "cell_type": "code",
      "source": [
        "import pandas as pd\n",
        "import re\n",
        "from transformers import BertTokenizer, BertForSequenceClassification\n",
        "from transformers import BertModel\n",
        "import torch\n",
        "import torch.nn as nn\n",
        "from torch.utils.data import TensorDataset, DataLoader, RandomSampler, SequentialSampler\n",
        "import numpy as np"
      ],
      "metadata": {
        "id": "jyT-rXN4L-NE"
      },
      "execution_count": 67,
      "outputs": []
    },
    {
      "cell_type": "code",
      "source": [
        "def clean_text(input):\n",
        "  # Pre-processing\n",
        "  remove_symbols = re.compile('[^0-9A-Za-z ]') \n",
        "\n",
        "  input = remove_symbols.sub(' ', str(input)) \n",
        "  # remove  empty spaces\n",
        "  re.sub('\\s+', '' ,input)\n",
        "  return input"
      ],
      "metadata": {
        "id": "2tvSrDxPMCpB"
      },
      "execution_count": 68,
      "outputs": []
    },
    {
      "cell_type": "code",
      "source": [
        "tokenizer = BertTokenizer.from_pretrained('bert-base-uncased', do_lower_case=True)\n",
        "def preprocessing_for_bert(data, max_length=200):\n",
        "\n",
        "  \"\"\"Perform required preprocessing steps for pretrained BERT.\n",
        "  @param    data (np.array): Array of texts to be processed.\n",
        "  @return   input_ids (torch.Tensor): Tensor of token ids to be fed to a model.\n",
        "  @return   attention_masks (torch.Tensor): Tensor of indices specifying which\n",
        "                tokens should be attended to by the model.\n",
        "  \"\"\"\n",
        "  # Create empty lists to store outputs\n",
        "  data_tweet = data.tweet.values\n",
        "  labels = data.sarcastic.values\n",
        "  input_ids = []\n",
        "  attention_masks = []\n",
        "\n",
        "  # For every sentence...\n",
        "  for element in data_tweet:\n",
        "    # `encode_plus` will:\n",
        "    #    (1) Tokenize the sentence\n",
        "    #    (2) Add the `[CLS]` and `[SEP]` token to the start and end\n",
        "    #    (3) Truncate/Pad sentence to max length\n",
        "    #    (4) Map tokens to their IDs\n",
        "    #    (5) Create attention mask\n",
        "    #    (6) Return a dictionary of outputs\n",
        "    encoded_dict = tokenizer.encode_plus(\n",
        "        text=clean_text(element),  # Preprocess sentence\n",
        "        add_special_tokens=True, # Add `[CLS]` and `[SEP]`\n",
        "        max_length=max_length,   # Max length to truncate/pad\n",
        "        pad_to_max_length=True,  # Pad sentence to max length\n",
        "        return_tensors='pt',     # Return PyTorch tensor\n",
        "        return_attention_mask=True      # Return attention mask\n",
        "        )\n",
        "      \n",
        "      # Add the outputs to the lists\n",
        "    input_ids.append(encoded_dict['input_ids'])\n",
        "    attention_masks.append(encoded_dict['attention_mask'])\n",
        "\n",
        "  # Convert lists to tensors\n",
        "  input_ids = torch.cat(input_ids,dim = 0)\n",
        "  attention_masks = torch.cat(attention_masks, dim = 0)\n",
        "  labels = torch.tensor(labels)\n",
        "\n",
        "  return input_ids, attention_masks, labels"
      ],
      "metadata": {
        "id": "EvQk905wiGbW"
      },
      "execution_count": 69,
      "outputs": []
    },
    {
      "cell_type": "code",
      "source": [
        "def load_data(input_ids, attention_masks, labels, batch_size = 64):\n",
        "  train_set = TensorDataset(input_ids, \n",
        "                          attention_masks, \n",
        "                          labels)\n",
        "  train_dataloader = DataLoader(\n",
        "            train_set,\n",
        "            sampler = RandomSampler(train_set),\n",
        "            batch_size = batch_size\n",
        "        )\n",
        "  return train_dataloader\n"
      ],
      "metadata": {
        "id": "rlUnuUFFyRMi"
      },
      "execution_count": 70,
      "outputs": []
    },
    {
      "cell_type": "code",
      "source": [
        "class BertClassifier(nn.Module):\n",
        "\n",
        "  \"\"\"Bert Model for Classification Tasks.\n",
        "  \"\"\"\n",
        "  def __init__(self):\n",
        "      \"\"\"\n",
        "      @param    bert: a BertModel object\n",
        "      @param    classifier: a torch.nn.Module classifier\n",
        "      @param    freeze_bert (bool): Set `False` to fine-tune the BERT model\n",
        "      \"\"\"\n",
        "      super(BertClassifier, self).__init__()\n",
        "      # Specify hidden size of BERT, hidden size of our classifier, and number of labels\n",
        "      dimension_in, hidden_layer, dimension_out = 768, 50, 2\n",
        "\n",
        "      # Instantiate BERT model\n",
        "      self.bert = BertModel.from_pretrained('bert-base-uncased', output_hidden_states = True)\n",
        "\n",
        "      # Instantiate an one-layer feed-forward classifier\n",
        "      self.classifier = nn.Sequential(\n",
        "          nn.Linear(dimension_in, hidden_layer),\n",
        "          nn.ReLU(),\n",
        "          #nn.Dropout(0.5),\n",
        "          nn.Linear(hidden_layer, dimension_out)\n",
        "      )\n",
        "      \n",
        "  def forward(self, input_ids, attention_mask):\n",
        "      \"\"\"\n",
        "      Feed input to BERT and the classifier to compute logits.\n",
        "      @param    input_ids (torch.Tensor): an input tensor with shape (batch_size,\n",
        "                    max_length)\n",
        "      @param    attention_mask (torch.Tensor): a tensor that hold attention mask\n",
        "                    information with shape (batch_size, max_length)\n",
        "      @return   logits (torch.Tensor): an output tensor with shape (batch_size,\n",
        "                    num_labels)\n",
        "      \"\"\"\n",
        "      # Feed input to BERT\n",
        "      outputs = self.bert(input_ids=input_ids,\n",
        "                          attention_mask=attention_mask)\n",
        "      \n",
        "      # Extract the last hidden state of the token `[CLS]` for classification task\n",
        "      # This will have the size of (batch_size, 768)\n",
        "      last_hidden_state_cls = outputs.hidden_states[-1][:, 0, :]\n",
        "\n",
        "      # Feed input to classifier to compute logits\n",
        "      logits = self.classifier(last_hidden_state_cls)\n",
        "\n",
        "      return logits\n"
      ],
      "metadata": {
        "id": "lrt4mahysjwT"
      },
      "execution_count": 71,
      "outputs": []
    },
    {
      "cell_type": "code",
      "source": [
        "from transformers import AdamW, get_linear_schedule_with_warmup\n",
        "\n",
        "def initialize_model(train_dataloader, epochs=4):\n",
        "    \"\"\"Initialize the Bert Classifier, the optimizer and the learning rate scheduler.\n",
        "    \"\"\"\n",
        "    # Instantiate Bert Classifier\n",
        "    bert_classifier = BertClassifier()\n",
        "\n",
        "    # Tell PyTorch to run the model on GPU\n",
        "    # bert_classifier.to(device)\n",
        "\n",
        "    # Create the optimizer\n",
        "    optimizer = AdamW(bert_classifier.parameters(),\n",
        "                      lr=5e-5,    # Default learning rate\n",
        "                      eps=1e-8    # Default epsilon value\n",
        "                      )\n",
        "\n",
        "    # Total number of training steps\n",
        "    total_steps = len(train_dataloader) * epochs\n",
        "\n",
        "    # Set up the learning rate scheduler\n",
        "    scheduler = get_linear_schedule_with_warmup(optimizer,\n",
        "                                                num_warmup_steps=0, # Default value\n",
        "                                                num_training_steps=total_steps)\n",
        "    return bert_classifier, optimizer, scheduler"
      ],
      "metadata": {
        "id": "ZFtsIelAwzrC"
      },
      "execution_count": 72,
      "outputs": []
    },
    {
      "cell_type": "code",
      "source": [
        "loss_fn = nn.CrossEntropyLoss()\n",
        "\n",
        "def train(model, train_dataloader,test_dataloader,optimizer, scheduler,epochs=4):\n",
        "  \"\"\"Train the BertClassifier model.\n",
        "  \"\"\"\n",
        "  # Start training loop\n",
        "  print(\"Start training...\\n\")\n",
        "  for epoch_i in range(epochs):\n",
        "    model_save_name = 'task-a-bert-with-classifier.pt'\n",
        "    col_name = 'epoch-' + str(epoch_i+1)\n",
        "\n",
        "    # =======================================\n",
        "    #               Training\n",
        "    # =======================================\n",
        "\n",
        "    # Reset tracking variables at the beginning of each epoch\n",
        "    # total_loss, batch_loss, batch_counts = 0, 0, 0\n",
        "\n",
        "    tr_loss = 0\n",
        "    nb_tr_examples, nb_tr_steps = 0, 0\n",
        "\n",
        "    # Put the model into the training mode\n",
        "    model.train()\n",
        "\n",
        "    # For each batch of training data...\n",
        "    for step, batch in enumerate(train_dataloader):\n",
        "\n",
        "      # Load batch to GPU\n",
        "      batch = tuple(t for t in batch)\n",
        "      b_input_ids, b_input_mask, b_labels = batch\n",
        "\n",
        "      # Zero out any previously calculated gradients\n",
        "      model.zero_grad()\n",
        "      # Perform a forward pass. This will return logits.\n",
        "      logits = model(b_input_ids, attention_mask = b_input_mask)\n",
        "      \n",
        "      # Compute loss and accumulate the loss values\n",
        "      loss = loss_fn(logits, b_labels)\n",
        "      tr_loss += loss.item()\n",
        "\n",
        "      # Perform a backward pass to calculate gradients\n",
        "      loss.backward()\n",
        "\n",
        "      # Clip the norm of the gradients to 1.0 to prevent \"exploding gradients\"\n",
        "      torch.nn.utils.clip_grad_norm_(model.parameters(), 1.0)\n",
        "\n",
        "      # Update parameters and the learning rate\n",
        "      optimizer.step()\n",
        "      scheduler.step()\n",
        "\n",
        "    model_save_name = 'epoch-' + str(epoch_i+1) + '-' + model_save_name\n",
        "    path = F\"/content/drive/MyDrive/Dataset/train/Task-A/{model_save_name}\" \n",
        "    torch.save(model.state_dict(), path)\n",
        "\n",
        "    print(\"Training complete!\")\n",
        "\n",
        "\n",
        "    prediction = bert_predict(model, test_dataloader)\n",
        "    col_name = \"probabilities-\" + col_name\n",
        "    path = \"/content/drive/MyDrive/Dataset/test/Task-A/\" + col_name\n",
        "    pd.DataFrame(prediction).to_csv(path)\n",
        "\n"
      ],
      "metadata": {
        "id": "RWWar6B9zK2H"
      },
      "execution_count": 73,
      "outputs": []
    },
    {
      "cell_type": "code",
      "source": [
        "import torch.nn.functional as F\n",
        "def bert_predict(model, test_dataloader):\n",
        "    \"\"\"Perform a forward pass on the trained BERT model to predict probabilities\n",
        "    on the test set.\n",
        "    \"\"\"\n",
        "    # Put the model into the evaluation mode. The dropout layers are disabled during\n",
        "    # the test time.\n",
        "    model.eval()\n",
        "\n",
        "    all_logits = []\n",
        "\n",
        "    # For each batch in our test set...\n",
        "    for batch in test_dataloader:\n",
        "        # Load batch to GPU\n",
        "        b_input_ids, b_attention_mask,_ = tuple(t for t in batch)\n",
        "\n",
        "        # Compute logits\n",
        "        with torch.no_grad():\n",
        "            logits = model(b_input_ids, b_attention_mask)\n",
        "        all_logits.append(logits)\n",
        "\n",
        "        \n",
        "    \n",
        "    # Concatenate logits from each batch\n",
        "    all_logits = torch.cat(all_logits, dim=0)\n",
        "\n",
        "    # Apply softmax to calculate probabilities\n",
        "    probs = F.softmax(all_logits, dim=1).cpu().numpy()\n",
        "\n",
        "    return probs"
      ],
      "metadata": {
        "id": "xbuR3nnu3XuY"
      },
      "execution_count": 74,
      "outputs": []
    },
    {
      "cell_type": "code",
      "source": [
        "df = pd.read_csv('/content/drive/MyDrive/Dataset/train/train.En.csv')\n",
        "df_test = pd.read_csv('/content/drive/MyDrive/Dataset/test/task_A_En_test.csv')\n",
        "\n",
        "input_ids, attention_masks, labels = preprocessing_for_bert(df)\n",
        "test_input_ids, test_attention_masks, test_labels = preprocessing_for_bert(df_test)\n",
        "\n",
        "train_dataloader =  load_data(input_ids,attention_masks,labels)\n",
        "test_dataloader = load_data(test_input_ids,test_attention_masks,test_labels)\n",
        "\n",
        "# df_results = pd.DataFrame()\n",
        "# df_results['True-Value'] = df_test['sarcastic'].values\n",
        "\n",
        "bert_classifier, optimizer, scheduler = initialize_model(train_dataloader)\n",
        "train(bert_classifier, train_dataloader, test_dataloader, optimizer, scheduler)"
      ],
      "metadata": {
        "colab": {
          "base_uri": "https://localhost:8080/"
        },
        "id": "zXy3qNJH9XqB",
        "outputId": "16360931-f89b-4498-9907-8fd6ed18dbc0"
      },
      "execution_count": 75,
      "outputs": [
        {
          "output_type": "stream",
          "name": "stderr",
          "text": [
            "Truncation was not explicitly activated but `max_length` is provided a specific value, please use `truncation=True` to explicitly truncate examples to max length. Defaulting to 'longest_first' truncation strategy. If you encode pairs of sequences (GLUE-style) with the tokenizer you can select this strategy more precisely by providing a specific strategy to `truncation`.\n",
            "/usr/local/lib/python3.9/dist-packages/transformers/tokenization_utils_base.py:2346: FutureWarning: The `pad_to_max_length` argument is deprecated and will be removed in a future version, use `padding=True` or `padding='longest'` to pad to the longest sequence in the batch, or use `padding='max_length'` to pad to a max length. In this case, you can give a specific length with `max_length` (e.g. `max_length=45`) or leave max_length to None to pad to the maximal input size of the model (e.g. 512 for Bert).\n",
            "  warnings.warn(\n",
            "Some weights of the model checkpoint at bert-base-uncased were not used when initializing BertModel: ['cls.seq_relationship.weight', 'cls.predictions.decoder.weight', 'cls.predictions.transform.LayerNorm.bias', 'cls.predictions.bias', 'cls.predictions.transform.dense.weight', 'cls.predictions.transform.dense.bias', 'cls.predictions.transform.LayerNorm.weight', 'cls.seq_relationship.bias']\n",
            "- This IS expected if you are initializing BertModel from the checkpoint of a model trained on another task or with another architecture (e.g. initializing a BertForSequenceClassification model from a BertForPreTraining model).\n",
            "- This IS NOT expected if you are initializing BertModel from the checkpoint of a model that you expect to be exactly identical (initializing a BertForSequenceClassification model from a BertForSequenceClassification model).\n",
            "/usr/local/lib/python3.9/dist-packages/transformers/optimization.py:391: FutureWarning: This implementation of AdamW is deprecated and will be removed in a future version. Use the PyTorch implementation torch.optim.AdamW instead, or set `no_deprecation_warning=True` to disable this warning\n",
            "  warnings.warn(\n"
          ]
        },
        {
          "output_type": "stream",
          "name": "stdout",
          "text": [
            "Start training...\n",
            "\n",
            "Training complete!\n",
            "Training complete!\n",
            "Training complete!\n",
            "Training complete!\n"
          ]
        }
      ]
    },
    {
      "cell_type": "code",
      "source": [
        "from sklearn.metrics import confusion_matrix, classification_report\n",
        "prob = pd.read_csv(\"/content/drive/MyDrive/Dataset/test/Task-A/probabilities-epoch-1\", sep=\",\",names=['Class-0', 'Class-1'])\n",
        "prob.drop(index=prob.index[0], axis=0, inplace=True)\n",
        "prob.head(2)\n",
        "threshold = 0.5\n",
        "preds = np.where(prob.iloc[:, 1] > threshold, 1, 0)\n",
        "preds"
      ],
      "metadata": {
        "id": "6INmeo-ClF25"
      },
      "execution_count": null,
      "outputs": []
    },
    {
      "cell_type": "code",
      "source": [],
      "metadata": {
        "id": "waSiJsJensnv"
      },
      "execution_count": null,
      "outputs": []
    },
    {
      "cell_type": "code",
      "source": [],
      "metadata": {
        "id": "BVSxFQSHnMQi"
      },
      "execution_count": null,
      "outputs": []
    },
    {
      "cell_type": "code",
      "source": [
        "print(confusion_matrix(df_test['sarcastic'], preds))\n"
      ],
      "metadata": {
        "colab": {
          "base_uri": "https://localhost:8080/"
        },
        "id": "bkvlyffxlwpz",
        "outputId": "68a8406c-dde2-447e-c201-5797e7cfd521"
      },
      "execution_count": 101,
      "outputs": [
        {
          "output_type": "stream",
          "name": "stdout",
          "text": [
            "[[1194    6]\n",
            " [ 199    1]]\n"
          ]
        }
      ]
    },
    {
      "cell_type": "code",
      "source": [
        "print(classification_report(df_test['sarcastic'], preds))"
      ],
      "metadata": {
        "colab": {
          "base_uri": "https://localhost:8080/"
        },
        "id": "c3G3aGCUl5d8",
        "outputId": "1d7e53a2-bfcf-4407-ee64-00f2fb7f1175"
      },
      "execution_count": 102,
      "outputs": [
        {
          "output_type": "stream",
          "name": "stdout",
          "text": [
            "              precision    recall  f1-score   support\n",
            "\n",
            "           0       0.86      0.99      0.92      1200\n",
            "           1       0.14      0.01      0.01       200\n",
            "\n",
            "    accuracy                           0.85      1400\n",
            "   macro avg       0.50      0.50      0.47      1400\n",
            "weighted avg       0.76      0.85      0.79      1400\n",
            "\n"
          ]
        }
      ]
    }
  ]
}